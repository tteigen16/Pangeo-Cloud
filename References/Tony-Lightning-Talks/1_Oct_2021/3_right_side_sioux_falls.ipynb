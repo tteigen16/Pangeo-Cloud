{
 "cells": [
  {
   "cell_type": "code",
   "execution_count": null,
   "id": "d923d3ed",
   "metadata": {},
   "outputs": [],
   "source": [
    "! TZ=CST6CDT date #- the beginning\n",
    "\n",
    "import time\n",
    "start_time = time.time()"
   ]
  },
  {
   "cell_type": "code",
   "execution_count": null,
   "id": "f284e142",
   "metadata": {},
   "outputs": [],
   "source": [
    "import hvplot.xarray"
   ]
  },
  {
   "cell_type": "code",
   "execution_count": null,
   "id": "95b65b60",
   "metadata": {},
   "outputs": [],
   "source": [
    "dir1='/home/ec2-user/data'"
   ]
  },
  {
   "cell_type": "code",
   "execution_count": null,
   "id": "49ee3f2c",
   "metadata": {},
   "outputs": [],
   "source": [
    "%%bash\n",
    "dir='/home/ec2-user/data/'\n",
    "ls -lh ${dir}"
   ]
  },
  {
   "cell_type": "code",
   "execution_count": null,
   "id": "f7ec81fd",
   "metadata": {},
   "outputs": [],
   "source": [
    "from os import listdir\n",
    "from os.path import isfile, join\n",
    "mypath=dir1\n",
    "onlyfiles = [f for f in listdir(mypath) if isfile(join(mypath, f))]"
   ]
  },
  {
   "cell_type": "code",
   "execution_count": null,
   "id": "96ba4116",
   "metadata": {},
   "outputs": [],
   "source": [
    "onlyfiles"
   ]
  },
  {
   "cell_type": "code",
   "execution_count": null,
   "id": "670fd612",
   "metadata": {},
   "outputs": [],
   "source": [
    "full_jpg_list=[]\n",
    "for my_jpg in onlyfiles:\n",
    "    the_jpg = dir1 + '/' + my_jpg\n",
    "    #print(the_jpg)\n",
    "    full_jpg_list.append(the_jpg)\n",
    "    #please_display(the_jpg)"
   ]
  },
  {
   "cell_type": "code",
   "execution_count": null,
   "id": "891ad270",
   "metadata": {},
   "outputs": [],
   "source": [
    "# from IPython.display import Image, display\n",
    "\n",
    "# listOfImageNames = full_jpg_list\n",
    "\n",
    "# for imageName in listOfImageNames:\n",
    "#     print(imageName)\n",
    "#     display(Image(filename=imageName))"
   ]
  },
  {
   "cell_type": "code",
   "execution_count": null,
   "id": "858af254",
   "metadata": {},
   "outputs": [],
   "source": [
    "full_jpg_list[8]"
   ]
  },
  {
   "cell_type": "code",
   "execution_count": null,
   "id": "b355c179",
   "metadata": {},
   "outputs": [],
   "source": [
    "import xarray as xr\n",
    "da = xr.open_rasterio(full_jpg_list[8])\n",
    "da"
   ]
  },
  {
   "cell_type": "code",
   "execution_count": null,
   "id": "c61090ee",
   "metadata": {},
   "outputs": [],
   "source": [
    "da.plot()"
   ]
  },
  {
   "cell_type": "code",
   "execution_count": null,
   "id": "4b70a42b",
   "metadata": {},
   "outputs": [],
   "source": [
    "da.hvplot(width=1400, height=1400)"
   ]
  },
  {
   "cell_type": "code",
   "execution_count": null,
   "id": "8f970314",
   "metadata": {},
   "outputs": [],
   "source": [
    "! gdalinfo /home/ec2-user/data/20200407_14TPP_00_R10m_TCI.tif"
   ]
  },
  {
   "cell_type": "code",
   "execution_count": null,
   "id": "39dfb2b5",
   "metadata": {},
   "outputs": [],
   "source": [
    "#!wget https://raw.githubusercontent.com/perrygeo/gdal_utils/master/gis-bin/flip_raster.py"
   ]
  },
  {
   "cell_type": "code",
   "execution_count": null,
   "id": "7b1bc243",
   "metadata": {},
   "outputs": [],
   "source": [
    "#!ls ~/data/20200731_14TPP_00_R10m_TCI.tif"
   ]
  },
  {
   "cell_type": "code",
   "execution_count": null,
   "id": "ab1ab551",
   "metadata": {},
   "outputs": [],
   "source": [
    "#! python2 flip_raster.py -o sf_upright_tci.tif /home/ec2-user/data/20200731_14TPP_00_R10m_TCI.tif"
   ]
  },
  {
   "cell_type": "code",
   "execution_count": null,
   "id": "4922fe7d",
   "metadata": {},
   "outputs": [],
   "source": [
    "! gdalwarp /home/ec2-user/data/20200407_14TPP_00_R10m_TCI.tif sf_upright_tci.tif"
   ]
  },
  {
   "cell_type": "code",
   "execution_count": null,
   "id": "900d2b35",
   "metadata": {},
   "outputs": [],
   "source": [
    "!ls"
   ]
  },
  {
   "cell_type": "code",
   "execution_count": null,
   "id": "e2751604",
   "metadata": {},
   "outputs": [],
   "source": [
    "# NOICE Flipping gdalwarp"
   ]
  },
  {
   "cell_type": "code",
   "execution_count": null,
   "id": "4b5c7bad",
   "metadata": {},
   "outputs": [],
   "source": [
    "!gdalinfo sf_upright_tci.tif"
   ]
  },
  {
   "cell_type": "code",
   "execution_count": null,
   "id": "53ce8520",
   "metadata": {},
   "outputs": [],
   "source": [
    "da = xr.open_rasterio('sf_upright_tci.tif')\n",
    "da"
   ]
  },
  {
   "cell_type": "code",
   "execution_count": null,
   "id": "fcf3c2ed",
   "metadata": {},
   "outputs": [],
   "source": [
    "da.hvplot(width=1400, height=1400)"
   ]
  },
  {
   "cell_type": "markdown",
   "id": "869af4a7",
   "metadata": {},
   "source": [
    "# the end \n"
   ]
  },
  {
   "cell_type": "code",
   "execution_count": null,
   "id": "ef8ca650",
   "metadata": {},
   "outputs": [],
   "source": [
    "! echo .tif > .gitignore"
   ]
  },
  {
   "cell_type": "code",
   "execution_count": null,
   "id": "9dbd43d6",
   "metadata": {},
   "outputs": [],
   "source": [
    "! TZ=CST6CDT date   # THE END\n",
    "\n",
    "\n",
    "print(\"--- %s seconds ---\" % (time.time() - start_time))"
   ]
  }
 ],
 "metadata": {
  "kernelspec": {
   "display_name": "Python 3 (ipykernel)",
   "language": "python",
   "name": "python3"
  },
  "language_info": {
   "codemirror_mode": {
    "name": "ipython",
    "version": 3
   },
   "file_extension": ".py",
   "mimetype": "text/x-python",
   "name": "python",
   "nbconvert_exporter": "python",
   "pygments_lexer": "ipython3",
   "version": "3.9.7"
  }
 },
 "nbformat": 4,
 "nbformat_minor": 5
}
