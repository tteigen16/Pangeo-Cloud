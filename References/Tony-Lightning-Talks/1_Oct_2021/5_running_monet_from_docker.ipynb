{
 "cells": [
  {
   "cell_type": "code",
   "execution_count": 1,
   "id": "2add850c",
   "metadata": {},
   "outputs": [
    {
     "name": "stdout",
     "output_type": "stream",
     "text": [
      "Tue Oct 19 09:35:23 CDT 2021\r\n"
     ]
    }
   ],
   "source": [
    "! TZ=CST6CDT date #- the beginning\n",
    "\n",
    "import time\n",
    "start_time = time.time()\n"
   ]
  },
  {
   "cell_type": "markdown",
   "id": "c09d77a8",
   "metadata": {},
   "source": [
    "# running monet from docker"
   ]
  },
  {
   "cell_type": "code",
   "execution_count": 2,
   "id": "b2306795",
   "metadata": {},
   "outputs": [
    {
     "name": "stdout",
     "output_type": "stream",
     "text": [
      "usage: monet [-h] [-r RADIUS] [-a APIKEY] [-s START_DATE] [-e END_DATE]\r\n",
      "             [-c CLOUD_COVER] [-d DATA_COVERAGE] [-u URL] [-C COLLECTION]\r\n",
      "             [-o OUTPUT_DIR] [-D] [-t] [-P] [-p PROFILE] [-v] [-y] [--version]\r\n",
      "             latitude longitude\r\n",
      "\r\n",
      "positional arguments:\r\n",
      "  latitude              Latitude (DECIMAL, DD.DDDDDDD)\r\n",
      "  longitude             Longitude (DECIMAL, DD.DDDDDDD)\r\n",
      "\r\n",
      "optional arguments:\r\n",
      "  -h, --help            show this help message and exit\r\n",
      "  -r RADIUS, --radius RADIUS\r\n",
      "                        Bounding box radius (default: 1000 meters)\r\n",
      "  -a APIKEY, --api-key APIKEY\r\n",
      "                        x-api-key value that will be included in the request\r\n",
      "                        headers\r\n",
      "  -s START_DATE, --start-date START_DATE\r\n",
      "                        Start Date YYYY-MM-DD (default: 3 years ago)\r\n",
      "  -e END_DATE, --end-date END_DATE\r\n",
      "                        End Date YYYY-MM-DD (default: now)\r\n",
      "  -c CLOUD_COVER, --cloud-cover CLOUD_COVER\r\n",
      "                        Cloud cover (percent 0-100) default 10.0\r\n",
      "  -d DATA_COVERAGE, --data-coverage DATA_COVERAGE\r\n",
      "                        Data coverage, for Sentinel only (percent 0-100)\r\n",
      "                        default 80.0\r\n",
      "  -u URL, --url URL     STAC URL default: 'https://earth-\r\n",
      "                        search.aws.element84.com/v0'\r\n",
      "  -C COLLECTION, --collection COLLECTION\r\n",
      "                        STAC collection default: 'sentinel-s2-l2a-cogs'\r\n",
      "  -o OUTPUT_DIR, --output-dir OUTPUT_DIR\r\n",
      "                        Output Directory for saved files (default ./imagery/)\r\n",
      "  -D, --download        Download flag, default (False)\r\n",
      "  -t, --thumbnails      Store thumbnails for downloaded images in thumbnails\r\n",
      "                        directory\r\n",
      "  -P, --print-all       Print out all of the S3 files (default: limit to 10)\r\n",
      "  -p PROFILE, --profile PROFILE\r\n",
      "                        AWS environment profile (default: 'default')\r\n",
      "  -v, --verbose         Verbose output to stdout\r\n",
      "  -y, --yes             Force Yes to all stdin questions, useful when run in\r\n",
      "                        background\r\n",
      "  --version             show program's version number and exit\r\n"
     ]
    }
   ],
   "source": [
    "! docker run tbutzer/monet-tool monet --help"
   ]
  },
  {
   "cell_type": "code",
   "execution_count": 3,
   "id": "05178666",
   "metadata": {},
   "outputs": [],
   "source": [
    "! sudo rm -fr ~/data/*"
   ]
  },
  {
   "cell_type": "code",
   "execution_count": 4,
   "id": "4764e2dc",
   "metadata": {},
   "outputs": [
    {
     "name": "stdout",
     "output_type": "stream",
     "text": [
      "                              2020                              \n",
      "\n",
      "      January               February               March        \n",
      "Mo Tu We Th Fr Sa Su  Mo Tu We Th Fr Sa Su  Mo Tu We Th Fr Sa Su\n",
      "       1  2  3  4  5                  1  2                     1  \n",
      " 6  7  8  9 10 11 12   3  4  5  6  7  8  9   2  3  4  5  6  7 \u001b[42m 8\u001b[0m  \n",
      "13 14 15 16 17 18 19  10 11 12 13 14 15 16   9 10 11 12 13 14 15  \n",
      "20 21 22 23 24 25 26  17 18 19 20 21 \u001b[41m22\u001b[0m 23  16 17 18 19 20 21 22  \n",
      "27 28 29 30 31        24 25 26 27 28 29     23 24 25 26 27 28 29  \n",
      "\n",
      "       April                  May                   June        \n",
      "Mo Tu We Th Fr Sa Su  Mo Tu We Th Fr Sa Su  Mo Tu We Th Fr Sa Su\n",
      "       1  2  3  4  5               1  2  3  \u001b[41m 1\u001b[0m  2  3  4  5  6  7  \n",
      " 6 \u001b[42m 7\u001b[0m  8  9 10 11 12   4  5  6  7  8  9 10   8  9 10 \u001b[41m11\u001b[0m 12 13 14  \n",
      "13 14 15 16 \u001b[42m17\u001b[0m 18 19  11 12 13 14 15 16 17  15 \u001b[42m16\u001b[0m 17 18 19 20 21  \n",
      "20 21 \u001b[41m22\u001b[0m 23 24 25 26  18 19 20 21 22 23 24  22 23 24 25 26 27 28  \n",
      "27 28 29 30           25 26 \u001b[42m27\u001b[0m 28 29 30 31  29 30                 \n",
      "\n",
      "        July                 August              September      \n",
      "Mo Tu We Th Fr Sa Su  Mo Tu We Th Fr Sa Su  Mo Tu We Th Fr Sa Su\n",
      "       1  2  3  4  5                  1  2      1  2  3 \u001b[42m 4\u001b[0m  5  6  \n",
      " 6  7  8  9 10 \u001b[41m11\u001b[0m 12   3  4  5  6  7  8  9   7  8  9 10 11 12 13  \n",
      "13 14 15 \u001b[42m16\u001b[0m 17 18 19  10 11 12 13 14 15 16  \u001b[42m14\u001b[0m 15 16 17 18 \u001b[41m19\u001b[0m 20  \n",
      "20 \u001b[41m21\u001b[0m 22 23 24 25 26  17 18 19 20 21 22 23  21 22 23 \u001b[42m24\u001b[0m 25 26 27  \n",
      "27 28 29 30 \u001b[41m31\u001b[0m        24 \u001b[42m25\u001b[0m 26 27 28 29 \u001b[41m30\u001b[0m  28 \u001b[41m29\u001b[0m 30              \n",
      "\n",
      "      October               November              December      \n",
      "Mo Tu We Th Fr Sa Su  Mo Tu We Th Fr Sa Su  Mo Tu We Th Fr Sa Su\n",
      "          1  2  3 \u001b[42m 4\u001b[0m                     1      1  2  3  4  5  6  \n",
      " 5  6  7  8 \u001b[41m 9\u001b[0m 10 11   2 \u001b[42m 3\u001b[0m  4  5  6  7 \u001b[41m 8\u001b[0m   7 \u001b[41m 8\u001b[0m  9 10 11 12 13  \n",
      "12 13 14 15 16 17 18   9 10 11 12 13 14 15  14 15 16 17 18 19 20  \n",
      "19 20 21 22 23 24 25  16 17 18 19 20 21 22  21 22 23 24 25 26 27  \n",
      "26 27 28 \u001b[41m29\u001b[0m 30 31     23 24 25 26 27 \u001b[41m28\u001b[0m 29  \u001b[41m28\u001b[0m 29 30 31           \n",
      "\n",
      "\u001b[41msentinel-2b (1)\u001b[0m\n",
      "\u001b[42msentinel-2a (1)\u001b[0m\n",
      "28 total dates\n",
      "Found 28 products between 2020-01-01 and 2020-12-31 with less than 25 percent clouds in 0.7 seconds.\n",
      "Downloading Thumbnails...\n",
      "Downloading Images...\n",
      "[1 of 28]: Downloading to ./imagery/20201228_14TPP_00_R10m_TCI.tif\n",
      "[2 of 28]: Downloading to ./imagery/20201208_14TPP_00_R10m_TCI.tif\n",
      "[3 of 28]: Downloading to ./imagery/20201128_14TPP_00_R10m_TCI.tif\n",
      "[4 of 28]: Downloading to ./imagery/20201108_14TPP_00_R10m_TCI.tif\n",
      "[5 of 28]: Downloading to ./imagery/20201103_14TPP_00_R10m_TCI.tif\n",
      "[6 of 28]: Downloading to ./imagery/20201029_14TPP_00_R10m_TCI.tif\n",
      "[7 of 28]: Downloading to ./imagery/20201009_14TPP_00_R10m_TCI.tif\n",
      "[8 of 28]: Downloading to ./imagery/20201004_14TPP_00_R10m_TCI.tif\n",
      "[9 of 28]: Downloading to ./imagery/20200929_14TPP_00_R10m_TCI.tif\n",
      "[10 of 28]: Downloading to ./imagery/20200924_14TPP_00_R10m_TCI.tif\n",
      "[11 of 28]: Downloading to ./imagery/20200919_14TPP_00_R10m_TCI.tif\n",
      "[12 of 28]: Downloading to ./imagery/20200914_14TPP_01_R10m_TCI.tif\n",
      "[13 of 28]: Downloading to ./imagery/20200904_14TPP_00_R10m_TCI.tif\n",
      "[14 of 28]: Downloading to ./imagery/20200830_14TPP_00_R10m_TCI.tif\n",
      "[15 of 28]: Downloading to ./imagery/20200825_14TPP_00_R10m_TCI.tif\n",
      "[16 of 28]: Downloading to ./imagery/20200731_14TPP_00_R10m_TCI.tif\n",
      "[17 of 28]: Downloading to ./imagery/20200721_14TPP_00_R10m_TCI.tif\n",
      "[18 of 28]: Downloading to ./imagery/20200716_14TPP_00_R10m_TCI.tif\n",
      "[19 of 28]: Downloading to ./imagery/20200711_14TPP_00_R10m_TCI.tif\n",
      "[20 of 28]: Downloading to ./imagery/20200616_14TPP_00_R10m_TCI.tif\n",
      "[21 of 28]: Downloading to ./imagery/20200611_14TPP_00_R10m_TCI.tif\n",
      "[22 of 28]: Downloading to ./imagery/20200601_14TPP_00_R10m_TCI.tif\n",
      "[23 of 28]: Downloading to ./imagery/20200527_14TPP_00_R10m_TCI.tif\n",
      "[24 of 28]: Downloading to ./imagery/20200422_14TPP_00_R10m_TCI.tif\n",
      "[25 of 28]: Downloading to ./imagery/20200417_14TPP_00_R10m_TCI.tif\n",
      "[26 of 28]: Downloading to ./imagery/20200407_14TPP_00_R10m_TCI.tif\n",
      "[27 of 28]: Downloading to ./imagery/20200308_14TPP_00_R10m_TCI.tif\n",
      "[28 of 28]: Downloading to ./imagery/20200222_14TPP_00_R10m_TCI.tif\n",
      "342.2 MB Data Used\n"
     ]
    }
   ],
   "source": [
    "!docker run -v /home/ec2-user/data:/home/monet/imagery -it tbutzer/monet-tool monet -y \\\n",
    "  43.49 -96.69  -c 25 -s 2020-01-01 -e 2020-12-31 -t -D --radius 10000"
   ]
  },
  {
   "cell_type": "markdown",
   "id": "50b08fe0",
   "metadata": {},
   "source": [
    "# My classes from last SPRING PANGEO Onboarding are here:\n",
    "\n",
    "## K:\\90daytemp\\butzer\\AWS_PANGEO_VIDEOS"
   ]
  },
  {
   "cell_type": "markdown",
   "id": "fab4bb78",
   "metadata": {},
   "source": [
    "# Back to you Thomas Teigen!"
   ]
  },
  {
   "cell_type": "code",
   "execution_count": 5,
   "id": "356184ae",
   "metadata": {},
   "outputs": [
    {
     "name": "stdout",
     "output_type": "stream",
     "text": [
      "Tue Oct 19 09:37:53 CDT 2021\n",
      "--- 149.78857898712158 seconds ---\n"
     ]
    }
   ],
   "source": [
    "! TZ=CST6CDT date   # THE END\n",
    "\n",
    "\n",
    "print(\"--- %s seconds ---\" % (time.time() - start_time))"
   ]
  }
 ],
 "metadata": {
  "kernelspec": {
   "display_name": "Python 3 (ipykernel)",
   "language": "python",
   "name": "python3"
  },
  "language_info": {
   "codemirror_mode": {
    "name": "ipython",
    "version": 3
   },
   "file_extension": ".py",
   "mimetype": "text/x-python",
   "name": "python",
   "nbconvert_exporter": "python",
   "pygments_lexer": "ipython3",
   "version": "3.9.7"
  }
 },
 "nbformat": 4,
 "nbformat_minor": 5
}
