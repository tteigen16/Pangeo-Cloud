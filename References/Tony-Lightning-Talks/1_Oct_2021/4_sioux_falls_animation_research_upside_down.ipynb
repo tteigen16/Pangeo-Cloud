{
 "cells": [
  {
   "cell_type": "markdown",
   "id": "b48f7fba",
   "metadata": {},
   "source": [
    "# This notebook does the following stuff:\n",
    "\n",
    "1. converts TCI tifs to jpg  # does not need to - so you get that for free\n",
    "2. creates an animated gif from jpgs\n",
    "3. creates an animated gif straight from TCI.tifs - \n",
    "\n",
    "## Pretty amazing!"
   ]
  },
  {
   "cell_type": "code",
   "execution_count": null,
   "id": "36df120f",
   "metadata": {},
   "outputs": [],
   "source": [
    "! date #- the beginning\n",
    "\n",
    "import time\n",
    "start_time = time.time()\n"
   ]
  },
  {
   "cell_type": "code",
   "execution_count": null,
   "id": "027396ad",
   "metadata": {},
   "outputs": [],
   "source": [
    "!ls ~/data"
   ]
  },
  {
   "cell_type": "code",
   "execution_count": null,
   "id": "18edf803",
   "metadata": {},
   "outputs": [],
   "source": [
    "! env | grep HOME"
   ]
  },
  {
   "cell_type": "code",
   "execution_count": null,
   "id": "6cb12ae2",
   "metadata": {},
   "outputs": [],
   "source": [
    "in_tif = '/home/ec2-user/data/20200222_14TPP_00_R10m_TCI.tif'\t"
   ]
  },
  {
   "cell_type": "code",
   "execution_count": null,
   "id": "b292a2e2",
   "metadata": {},
   "outputs": [],
   "source": [
    "from PIL import Image\n",
    "\n",
    "img = Image.open(in_tif)\n",
    "rgb_img = img.convert('RGB')\n",
    "rgb_img.save('image.jpg')"
   ]
  },
  {
   "cell_type": "code",
   "execution_count": null,
   "id": "69c0f622",
   "metadata": {},
   "outputs": [],
   "source": [
    "!ls"
   ]
  },
  {
   "cell_type": "code",
   "execution_count": null,
   "id": "80d6f90e",
   "metadata": {},
   "outputs": [],
   "source": [
    "from IPython.display import Image, display\n",
    "\n",
    "imageName = './image.jpg'\n",
    "display(Image(filename=imageName))"
   ]
  },
  {
   "cell_type": "code",
   "execution_count": null,
   "id": "6552e6a4",
   "metadata": {},
   "outputs": [],
   "source": [
    "! mkdir -p ~/data/jpg"
   ]
  },
  {
   "cell_type": "code",
   "execution_count": null,
   "id": "7d782a43",
   "metadata": {},
   "outputs": [],
   "source": [
    "from PIL import Image\n",
    "from os.path import basename\n",
    "\n",
    "def convert_tif_to_jpeg(image_list):\n",
    "    src_dir = '/home/ec2-user/data/'\n",
    "    dst_dir = src_dir + 'jpg/'\n",
    "    for in_tif in image_list:\n",
    "        #print(in_tif)\n",
    "        a = basename(in_tif) \n",
    "        #print(a)\n",
    "        b = a.replace('.tif','.jpg')\n",
    "        src_file = src_dir + in_tif\n",
    "        dst_file = dst_dir + b\n",
    "        print('Convert ', src_file, 'to ', dst_file)\n",
    "        img = Image.open(src_file)\n",
    "        rgb_img = img.convert('RGB')\n",
    "        rgb_img.save(dst_file)\n",
    "        "
   ]
  },
  {
   "cell_type": "code",
   "execution_count": null,
   "id": "d4a0e797",
   "metadata": {},
   "outputs": [],
   "source": [
    "from os import listdir\n",
    "from os.path import isfile, join\n",
    "mypath='/home/ec2-user/data'\n",
    "onlyfiles = [f for f in listdir(mypath) if isfile(join(mypath, f))]"
   ]
  },
  {
   "cell_type": "code",
   "execution_count": null,
   "id": "4e7142ec",
   "metadata": {},
   "outputs": [],
   "source": [
    "onlyfiles.sort()"
   ]
  },
  {
   "cell_type": "code",
   "execution_count": null,
   "id": "05bbf72e",
   "metadata": {},
   "outputs": [],
   "source": [
    "onlyfiles"
   ]
  },
  {
   "cell_type": "code",
   "execution_count": null,
   "id": "3ccd55d7",
   "metadata": {},
   "outputs": [],
   "source": [
    "convert_tif_to_jpeg(onlyfiles[0:-1])"
   ]
  },
  {
   "cell_type": "code",
   "execution_count": null,
   "id": "a7797ad1",
   "metadata": {},
   "outputs": [],
   "source": [
    "import glob\n",
    "\n",
    "from PIL import Image\n",
    "\n",
    "\n",
    "def make_gif(frame_folder):\n",
    "    frames = [Image.open(image) for image in glob.glob(f\"{frame_folder}/*.jpg\")]\n",
    "    frame_one = frames[0]\n",
    "    frame_one.save(\"/home/ec2-user/data/animate/sf_animation.gif\", format=\"GIF\", append_images=frames,\n",
    "               save_all=True, duration=500, loop=0)\n",
    "\n",
    "\n"
   ]
  },
  {
   "cell_type": "code",
   "execution_count": null,
   "id": "76cac46b",
   "metadata": {},
   "outputs": [],
   "source": [
    "!mkdir -p \"/home/ec2-user/data/animate\""
   ]
  },
  {
   "cell_type": "code",
   "execution_count": null,
   "id": "52e75228",
   "metadata": {},
   "outputs": [],
   "source": [
    "make_gif(\"/home/ec2-user/data/jpg\")"
   ]
  },
  {
   "cell_type": "code",
   "execution_count": null,
   "id": "27e67395",
   "metadata": {},
   "outputs": [],
   "source": [
    "import glob\n",
    "\n",
    "from PIL import Image\n",
    "\n",
    "\n",
    "def make_gif_from_tif(frame_folder):\n",
    "    frames = [Image.open(image) for image in glob.glob(f\"{frame_folder}/*.tif\")]\n",
    "    frame_one = frames[0]\n",
    "    frame_one.save(\"/home/ec2-user/data/animate/sf_animation2.gif\", format=\"GIF\", append_images=frames,\n",
    "               save_all=True, duration=500, loop=0)"
   ]
  },
  {
   "cell_type": "code",
   "execution_count": null,
   "id": "7d3f5756",
   "metadata": {},
   "outputs": [],
   "source": [
    "make_gif_from_tif(\"/home/ec2-user/data\")"
   ]
  },
  {
   "cell_type": "code",
   "execution_count": null,
   "id": "0937c55e",
   "metadata": {},
   "outputs": [],
   "source": [
    "from IPython.display import Image\n",
    "Image(filename='/home/ec2-user/data/animate/sf_animation2.gif') "
   ]
  },
  {
   "cell_type": "code",
   "execution_count": null,
   "id": "a7ac49a7",
   "metadata": {},
   "outputs": [],
   "source": [
    "!ls /home/ec2-user/data/animate"
   ]
  },
  {
   "cell_type": "code",
   "execution_count": null,
   "id": "c2ee51ea",
   "metadata": {},
   "outputs": [],
   "source": [
    "! TZ=CST6CDT date   # THE END\n",
    "\n",
    "\n",
    "print(\"--- %s seconds ---\" % (time.time() - start_time))"
   ]
  }
 ],
 "metadata": {
  "kernelspec": {
   "display_name": "Python 3 (ipykernel)",
   "language": "python",
   "name": "python3"
  },
  "language_info": {
   "codemirror_mode": {
    "name": "ipython",
    "version": 3
   },
   "file_extension": ".py",
   "mimetype": "text/x-python",
   "name": "python",
   "nbconvert_exporter": "python",
   "pygments_lexer": "ipython3",
   "version": "3.9.7"
  }
 },
 "nbformat": 4,
 "nbformat_minor": 5
}
