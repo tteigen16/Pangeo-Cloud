{
 "cells": [
  {
   "cell_type": "markdown",
   "id": "204d6520",
   "metadata": {},
   "source": [
    "# iarpa monet tool downloads TCI and Thumbnails\n",
    "\n",
    "- later in these workshops - I'll demo how to dothat with:\n",
    "\n",
    "## xarray"
   ]
  },
  {
   "cell_type": "code",
   "execution_count": null,
   "id": "3d04fd98",
   "metadata": {},
   "outputs": [],
   "source": [
    "! TZ=CST6CDT date #- the beginning\n",
    "\n",
    "import time\n",
    "start_time = time.time()"
   ]
  },
  {
   "cell_type": "code",
   "execution_count": null,
   "id": "6e39025f",
   "metadata": {},
   "outputs": [],
   "source": [
    "! ls ~/data/thumbnails"
   ]
  },
  {
   "cell_type": "code",
   "execution_count": null,
   "id": "1eed4657",
   "metadata": {},
   "outputs": [],
   "source": [
    "dir1='/home/ec2-user/data/thumbnails'"
   ]
  },
  {
   "cell_type": "code",
   "execution_count": null,
   "id": "907efb4c",
   "metadata": {},
   "outputs": [],
   "source": [
    "%%bash\n",
    "dir='/home/ec2-user/data/thumbnails'\n",
    "ls -l ${dir}"
   ]
  },
  {
   "cell_type": "markdown",
   "id": "d3c5fca0",
   "metadata": {},
   "source": [
    "# ok so we have a bunch of thumbnails\n",
    "\n",
    "## from our monet DOWNLOAD tool"
   ]
  },
  {
   "cell_type": "code",
   "execution_count": null,
   "id": "f100eadb",
   "metadata": {},
   "outputs": [],
   "source": [
    "dir1='/home/ec2-user/data/thumbnails'"
   ]
  },
  {
   "cell_type": "code",
   "execution_count": null,
   "id": "3e0c9bce",
   "metadata": {},
   "outputs": [],
   "source": [
    "from os import listdir\n",
    "from os.path import isfile, join\n",
    "mypath=dir1\n",
    "onlyfiles = [f for f in listdir(mypath) if isfile(join(mypath, f))]"
   ]
  },
  {
   "cell_type": "code",
   "execution_count": null,
   "id": "8a0ec46d",
   "metadata": {},
   "outputs": [],
   "source": [
    "onlyfiles"
   ]
  },
  {
   "cell_type": "code",
   "execution_count": null,
   "id": "40034c34",
   "metadata": {},
   "outputs": [],
   "source": [
    "# make the full pathnames prepend dir1\n",
    "full_jpg_list=[]\n",
    "for my_jpg in onlyfiles:\n",
    "    the_jpg = dir1 + '/' + my_jpg\n",
    "    full_jpg_list.append(the_jpg)"
   ]
  },
  {
   "cell_type": "code",
   "execution_count": null,
   "id": "b8a6dd25",
   "metadata": {},
   "outputs": [],
   "source": [
    "from IPython.display import Image, display\n",
    "\n",
    "listOfImageNames = full_jpg_list\n",
    "\n",
    "for imageName in listOfImageNames:\n",
    "    print(imageName)\n",
    "    display(Image(filename=imageName))"
   ]
  },
  {
   "cell_type": "markdown",
   "id": "0eb89619",
   "metadata": {},
   "source": [
    "# you can see the problem images observations scenes tiles \n",
    "\n",
    "##  also this is low res so not that interesting"
   ]
  },
  {
   "cell_type": "markdown",
   "id": "32e7741d",
   "metadata": {},
   "source": [
    "# The END"
   ]
  },
  {
   "cell_type": "markdown",
   "id": "5a5f1434",
   "metadata": {},
   "source": [
    "![](https://i.pinimg.com/originals/f8/89/1e/f8891ef65e086abc67e5b448acb8bc12.gif)"
   ]
  },
  {
   "cell_type": "code",
   "execution_count": null,
   "id": "42c2655b",
   "metadata": {},
   "outputs": [],
   "source": [
    "! TZ=CST6CDT date"
   ]
  },
  {
   "cell_type": "code",
   "execution_count": null,
   "id": "d718625d",
   "metadata": {},
   "outputs": [],
   "source": [
    "\n",
    "print(\"--- %s seconds ---\" % (time.time() - start_time))"
   ]
  }
 ],
 "metadata": {
  "kernelspec": {
   "display_name": "Python 3 (ipykernel)",
   "language": "python",
   "name": "python3"
  },
  "language_info": {
   "codemirror_mode": {
    "name": "ipython",
    "version": 3
   },
   "file_extension": ".py",
   "mimetype": "text/x-python",
   "name": "python",
   "nbconvert_exporter": "python",
   "pygments_lexer": "ipython3",
   "version": "3.9.7"
  }
 },
 "nbformat": 4,
 "nbformat_minor": 5
}
