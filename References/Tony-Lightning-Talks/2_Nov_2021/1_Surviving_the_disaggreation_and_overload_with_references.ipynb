{
 "cells": [
  {
   "cell_type": "markdown",
   "id": "3c0896d1",
   "metadata": {},
   "source": [
    "# Need Structure - START HERE:\n",
    "https://earth-env-data-science.github.io/intro.html"
   ]
  },
  {
   "cell_type": "markdown",
   "id": "9416d6ee",
   "metadata": {},
   "source": [
    "# Chat with Thomas Teigen and \n",
    "### get a pangeo.chs.usgs.gov account - FREE"
   ]
  },
  {
   "cell_type": "markdown",
   "id": "4fcaf993",
   "metadata": {},
   "source": [
    "# References\n",
    "\n",
    "1. Bex from ODC\n",
    "    - https://github.com/BexDunn/deafrica-sandbox-notebooks\n",
    "2. Aaron Friesz - Github\n",
    "    - https://github.com/amfriesz/eros_cop_webinar_notebooks\n",
    "    - Cloud Opt. Data formats\n",
    "\t- AWS data access -> data that is Free & Open vs. Requester Pays vs. Free w/ auth\n",
    "\t- Analysis in place...what does this look like\n",
    "\t- Scaling & Parallel processing (?)\n",
    "\t- Cost -> no magic formula\n",
    "\t- Migrating ArcGIS workflows -> w/ Rasterio and proj examples\n",
    "3. More from Matt Hanson and Cole Krehbiel\n",
    "3. Rich Signell\n",
    "4. General Youtube\n",
    "    - xarray composite sentinel\n",
    "5. Ryan Abernathey\n"
   ]
  },
  {
   "cell_type": "markdown",
   "id": "4c02d02e",
   "metadata": {},
   "source": [
    "# Topic Overload Strategies\n",
    "1. start with xarray and pandas\n"
   ]
  },
  {
   "cell_type": "markdown",
   "id": "38cf7620",
   "metadata": {},
   "source": [
    "# https://registry.opendata.aws/sentinel-2-l2a-cogs/"
   ]
  },
  {
   "cell_type": "markdown",
   "id": "a622bf21",
   "metadata": {},
   "source": [
    "# Kirill\n",
    "\n",
    "https://github.com/opendatacube/odc-stac/blob/5d94d48c3d6418681d05667d004b704b5a55a7ba/notebooks/stac-load-S2-ms.py#L137"
   ]
  },
  {
   "cell_type": "markdown",
   "id": "dc988e3e",
   "metadata": {},
   "source": [
    "# Best of ODC Slack\n",
    "https://github.com/digitalearthafrica/deafrica-sandbox-notebooks/blob/master/Frequently_used_code/Imagery_on_web_map.ipynb"
   ]
  },
  {
   "cell_type": "markdown",
   "id": "d4f7b594",
   "metadata": {},
   "source": [
    "# Augspurger\n",
    "https://github.com/TomAugspurger/geoint-2021/blob/3b78000e8dd2f8b0acb4d33a985ed5230a06a804/data-access.ipynb"
   ]
  },
  {
   "cell_type": "markdown",
   "id": "820e3716",
   "metadata": {},
   "source": [
    "# Bill Howe, Dave Hill, Kelcy Smith\n"
   ]
  },
  {
   "cell_type": "markdown",
   "id": "941640db",
   "metadata": {},
   "source": [
    "# Abernathey\n",
    "\tand take a look at this Pangeo Jupyter Book - that Ryan Abernathey has Created -->\n",
    "\t\n",
    "https://earth-env-data-science.github.io/intro\n",
    "    \n",
    "    "
   ]
  },
  {
   "cell_type": "markdown",
   "id": "711c028c",
   "metadata": {},
   "source": [
    "# Joe Hammann"
   ]
  },
  {
   "cell_type": "markdown",
   "id": "7b82a85d",
   "metadata": {},
   "source": [
    "# Matt Rocklin\n"
   ]
  },
  {
   "cell_type": "markdown",
   "id": "e9c0d967",
   "metadata": {},
   "source": [
    "# Scott Henderson - socttyhq"
   ]
  },
  {
   "cell_type": "code",
   "execution_count": null,
   "id": "daf474cb",
   "metadata": {},
   "outputs": [],
   "source": []
  },
  {
   "cell_type": "code",
   "execution_count": null,
   "id": "1f78f0b6",
   "metadata": {},
   "outputs": [],
   "source": []
  },
  {
   "cell_type": "markdown",
   "id": "c421c5eb",
   "metadata": {},
   "source": [
    "# Key Topics\n",
    "\n",
    "## Xarray\n",
    "\n",
    "http://xarray.pydata.org/en/stable/tutorials-and-videos.html\n",
    "\n",
    "https://github.com/pydata/xarray\n",
    "\n",
    "Learn more about xarray in its official documentation at https://xarray.pydata.org/\n",
    "\n",
    "https://earth-env-data-science.github.io/lectures/xarray/xarray.html\n"
   ]
  },
  {
   "cell_type": "markdown",
   "id": "728b88c4",
   "metadata": {},
   "source": [
    "# Tony Butzer\n",
    "k:\\90daytmp"
   ]
  }
 ],
 "metadata": {
  "kernelspec": {
   "display_name": "Python 3 (ipykernel)",
   "language": "python",
   "name": "python3"
  },
  "language_info": {
   "codemirror_mode": {
    "name": "ipython",
    "version": 3
   },
   "file_extension": ".py",
   "mimetype": "text/x-python",
   "name": "python",
   "nbconvert_exporter": "python",
   "pygments_lexer": "ipython3",
   "version": "3.9.7"
  }
 },
 "nbformat": 4,
 "nbformat_minor": 5
}
